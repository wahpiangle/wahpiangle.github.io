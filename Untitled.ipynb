{
 "cells": [
  {
   "cell_type": "code",
   "execution_count": null,
   "id": "5a9ea650",
   "metadata": {},
   "outputs": [],
   "source": [
    "from selenium import webdriver\n",
    "\n",
    "PATH = \"C:\\Program Files (x86)\\chromedriver.exe\"\n",
    "driver = webdriver.Chrome(PATH)\n",
    "\n",
    "driver.get(\"https://www.theverge.com/tech\")\n",
    "div_elements = driver.find_elements_by_xpath(\"//div[contains(@class, 'c-compact-river__entry ')]\")\n",
    "text_list = []\n",
    "for div in div_elements:\n",
    "    a_element = div.find_element_by_xpath(\".//h2/a\")\n",
    "    text_list.append(a_element.text)\n",
    "    text_list.append(a_element.get_attribute(\"href\"))\n",
    "        \n",
    "print(text_list)\n"
   ]
  }
 ],
 "metadata": {
  "kernelspec": {
   "display_name": "Python 3 (ipykernel)",
   "language": "python",
   "name": "python3"
  },
  "language_info": {
   "codemirror_mode": {
    "name": "ipython",
    "version": 3
   },
   "file_extension": ".py",
   "mimetype": "text/x-python",
   "name": "python",
   "nbconvert_exporter": "python",
   "pygments_lexer": "ipython3",
   "version": "3.9.12"
  }
 },
 "nbformat": 4,
 "nbformat_minor": 5
}
